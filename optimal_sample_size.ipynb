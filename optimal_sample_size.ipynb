{
 "cells": [
  {
   "cell_type": "code",
   "execution_count": null,
   "metadata": {},
   "outputs": [],
   "source": [
    "## Import packages\n",
    "import pandas as pd\n",
    "from math import floor, ceil\n",
    "from scipy.special import ndtri\n",
    "import numpy as np\n"
   ]
  },
  {
   "cell_type": "code",
   "execution_count": null,
   "metadata": {},
   "outputs": [],
   "source": [
    "def optimal_sample_size(power,population_size,variance_null,num_tests,min_effect_size,variance_test=None):\n",
    "    '''\n",
    "    Calculates the required number of members per test group given a desired power at 95% significance.\n",
    "    It is specifically designed for our use case (multiple tests, known population, solving for a single test group size).\n",
    "    This is the result of a bunch of algebra that I won't reproduce here.\n",
    "\n",
    "    If you wish to verify the results for yourself, you can use this tool: https://ytliu0.github.io/Stat_Med/power2.html\n",
    "    If comparing results to that website, make sure to choose two-sided test, unlock the group sizes, and note that they ask for standard deviations.\n",
    "    Note that there is a small amount of rounding error that will prevent the results lining up exactly.\n",
    "\n",
    "    Args:\n",
    "        :power_test: The desired power level.\n",
    "        :population_size: Total number of targeted members.\n",
    "        :variance_null: The variance under the null hypothesis.\n",
    "        :variance_test: The variance under the alternative hypothesis. This will generally not be\n",
    "            known, though in the case of rates (e.g. completion rates) it can be calculated and supplied.\n",
    "        :num_tests: Number of test groups.\n",
    "        :min_detectable_uplift: The desired minimum detectable change in the outcome at the given power and 95% significance.\n",
    "    '''\n",
    "    alpha = 0.05    # 95% significance\n",
    "    critical_value = ndtri(1-alpha/2)\n",
    "\n",
    "    if variance_test == None: #If the test group variance is not known and can't be calculated, just use the null group variance as a best estimate\n",
    "        variance_test = variance_null     \n",
    "\n",
    "    s_t, s_c, n, k = variance_test, variance_null, population_size, num_tests #For brevity\n",
    "    z = (min_effect_size/(ndtri(power)+critical_value))*(min_effect_size/(ndtri(power)+critical_value)) #For brevity\n",
    "\n",
    "    #Coefficients of the polynomial\n",
    "    a = -z*k\n",
    "    b = (z*n+k*s_t-s_c)\n",
    "    c = -n*s_t\n",
    "\n",
    "    return ceil(min(np.roots([a,b,c])))"
   ]
  },
  {
   "cell_type": "code",
   "execution_count": 18,
   "metadata": {},
   "outputs": [
    {
     "data": {
      "text/plain": [
       "883"
      ]
     },
     "execution_count": 18,
     "metadata": {},
     "output_type": "execute_result"
    }
   ],
   "source": [
    "optimal_sample_size(0.8,8000,0.25,1,.05)"
   ]
  },
  {
   "cell_type": "code",
   "execution_count": null,
   "metadata": {},
   "outputs": [],
   "source": []
  }
 ],
 "metadata": {
  "kernelspec": {
   "display_name": "base",
   "language": "python",
   "name": "python3"
  },
  "language_info": {
   "codemirror_mode": {
    "name": "ipython",
    "version": 3
   },
   "file_extension": ".py",
   "mimetype": "text/x-python",
   "name": "python",
   "nbconvert_exporter": "python",
   "pygments_lexer": "ipython3",
   "version": "3.8.8"
  }
 },
 "nbformat": 4,
 "nbformat_minor": 2
}
